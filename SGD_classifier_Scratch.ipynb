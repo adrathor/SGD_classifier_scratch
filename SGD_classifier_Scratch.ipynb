{
 "cells": [
  {
   "cell_type": "code",
   "execution_count": 1,
   "metadata": {},
   "outputs": [],
   "source": [
    "import numpy as np\n",
    "import pandas as pd\n",
    "from sklearn.datasets import make_classification\n",
    "import math as m"
   ]
  },
  {
   "cell_type": "code",
   "execution_count": 2,
   "metadata": {},
   "outputs": [],
   "source": [
    "x,y= make_classification(n_features=15, n_samples=50000,n_classes=2, n_informative=10, n_redundant=5,weights=[0.7], class_sep=0.7, random_state=15)"
   ]
  },
  {
   "cell_type": "code",
   "execution_count": 3,
   "metadata": {},
   "outputs": [],
   "source": [
    "from sklearn.model_selection import train_test_split"
   ]
  },
  {
   "cell_type": "code",
   "execution_count": 4,
   "metadata": {},
   "outputs": [],
   "source": [
    "xtr,xte,ytr,yte= train_test_split(x,y, test_size=0.3, random_state=2)"
   ]
  },
  {
   "cell_type": "code",
   "execution_count": 5,
   "metadata": {},
   "outputs": [],
   "source": [
    "w= np.zeros_like(xtr[0])"
   ]
  },
  {
   "cell_type": "code",
   "execution_count": 6,
   "metadata": {},
   "outputs": [],
   "source": [
    "def sigmoid(w, x, b):\n",
    "    return 1/(1+m.exp(-(np.dot(x,w)+b)))"
   ]
  },
  {
   "cell_type": "code",
   "execution_count": 7,
   "metadata": {},
   "outputs": [],
   "source": [
    "b = 0\n",
    "eta0  = 0.0001\n",
    "alpha = 0.0001\n",
    "N = len(xtr)\n",
    "ntest= len(xte)\n",
    "trainlos=0\n",
    "testloss=0\n",
    "iloss=0"
   ]
  },
  {
   "cell_type": "code",
   "execution_count": 8,
   "metadata": {},
   "outputs": [],
   "source": [
    "train_loss=[]\n",
    "test_loss=[]"
   ]
  },
  {
   "cell_type": "code",
   "execution_count": 9,
   "metadata": {},
   "outputs": [],
   "source": [
    "for i in range(len(xtr)):\n",
    "    p= sigmoid(w,xtr[i], b)\n",
    "    trainlos+= ytr[i]* np.log(p)+ (1-ytr[i])*(1- np.log(1-p))\n",
    "    "
   ]
  },
  {
   "cell_type": "code",
   "execution_count": 10,
   "metadata": {},
   "outputs": [],
   "source": [
    "trainlos=((-1)/N)*trainlos"
   ]
  },
  {
   "cell_type": "code",
   "execution_count": 11,
   "metadata": {},
   "outputs": [],
   "source": [
    "for i in range(len(xte)):\n",
    "    q= sigmoid(w,xte[i], b)\n",
    "    testloss+= yte[i]* np.log(q)+ (1-yte[i])*(1- np.log(1-q))"
   ]
  },
  {
   "cell_type": "code",
   "execution_count": 12,
   "metadata": {},
   "outputs": [],
   "source": [
    "testloss=((-1)/ntest)*testloss"
   ]
  },
  {
   "cell_type": "code",
   "execution_count": 13,
   "metadata": {},
   "outputs": [],
   "source": [
    "epoch=10\n",
    "epo_train=[]\n",
    "epo_test=[]\n",
    "for i in range(1,epoch+1):\n",
    "    new_loss=0\n",
    "    for i in range(len(xtr)):\n",
    "        #1\n",
    "        w_new= ((1-eta0*alpha)/N)*w + eta0*xtr[i]*(ytr[i]- sigmoid(w,x[i],b))\n",
    "        b_new= b + eta0*ytr[i] - eta0*sigmoid(w,xtr[i],b)\n",
    "    #2\n",
    "    for i in range(len(xtr)):        \n",
    "        r= sigmoid(w_new,xtr[i], b_new)\n",
    "        new_loss+= ytr[i]* np.log(r)+ (1-ytr[i])*(1- np.log(1-r))\n",
    "    train_loss.append(((-1)/N)*new_loss)\n",
    "    #3\n",
    "    new_ltest=0\n",
    "    for i in range(len(xte)):\n",
    "        s= sigmoid(w_new,xte[i], b_new)\n",
    "        new_ltest+= yte[i]* np.log(s)+ (1-yte[i])*(1- np.log(1-s))\n",
    "    test_loss.append(((-1)/ntest)*new_ltest)"
   ]
  },
  {
   "cell_type": "code",
   "execution_count": 14,
   "metadata": {},
   "outputs": [
    {
     "data": {
      "text/plain": [
       "[-0.9747187391514004,\n",
       " -0.9747187391514004,\n",
       " -0.9747187391514004,\n",
       " -0.9747187391514004,\n",
       " -0.9747187391514004,\n",
       " -0.9747187391514004,\n",
       " -0.9747187391514004,\n",
       " -0.9747187391514004,\n",
       " -0.9747187391514004,\n",
       " -0.9747187391514004]"
      ]
     },
     "execution_count": 14,
     "metadata": {},
     "output_type": "execute_result"
    }
   ],
   "source": [
    "test_loss"
   ]
  },
  {
   "cell_type": "markdown",
   "metadata": {},
   "source": [
    "# 2 Using Pseudocode"
   ]
  },
  {
   "cell_type": "code",
   "execution_count": 15,
   "metadata": {},
   "outputs": [],
   "source": [
    "w= np.zeros_like(xtr[0])\n",
    "b = 0\n",
    "eta0  = 0.0001\n",
    "alpha = 0.0001\n",
    "N = len(xtr)\n",
    "ntest= len(xte)\n",
    "trainlos=0\n",
    "testloss=0\n",
    "iloss=0"
   ]
  },
  {
   "cell_type": "code",
   "execution_count": 16,
   "metadata": {},
   "outputs": [],
   "source": [
    "for i in range(len(xtr)):\n",
    "    p= sigmoid(w,xtr[i], b)\n",
    "    trainlos+= ytr[i]* np.log(p)+ (1-ytr[i])*(1- np.log(1-p))\n",
    "    w_new= ((1-eta0*alpha)/N)*w + eta0*xtr[i]*(ytr[i]- sigmoid(w,x[i],b))\n",
    "    b_new= b + eta0*ytr[i] - eta0*sigmoid(w,xtr[i],b)\n",
    "    w=w_new\n",
    "    b=b_new"
   ]
  },
  {
   "cell_type": "code",
   "execution_count": 17,
   "metadata": {},
   "outputs": [],
   "source": [
    "trainlos=((-1)/N)*trainlos"
   ]
  },
  {
   "cell_type": "code",
   "execution_count": 18,
   "metadata": {},
   "outputs": [
    {
     "data": {
      "text/plain": [
       "-0.8436251175894628"
      ]
     },
     "execution_count": 18,
     "metadata": {},
     "output_type": "execute_result"
    }
   ],
   "source": [
    "trainlos"
   ]
  },
  {
   "cell_type": "code",
   "execution_count": 19,
   "metadata": {},
   "outputs": [],
   "source": [
    "loglos=0\n",
    "for i in range(len(xtr)):\n",
    "    q= sigmoid(w_new,xtr[i], b_new)\n",
    "    loglos+= ytr[i]* np.log(q)+ (1-ytr[i])*(1- np.log(1-q))"
   ]
  },
  {
   "cell_type": "code",
   "execution_count": 20,
   "metadata": {},
   "outputs": [],
   "source": [
    "loglos=((-1)/N)*loglos"
   ]
  },
  {
   "cell_type": "code",
   "execution_count": 21,
   "metadata": {},
   "outputs": [
    {
     "data": {
      "text/plain": [
       "-0.7510925997839473"
      ]
     },
     "execution_count": 21,
     "metadata": {},
     "output_type": "execute_result"
    }
   ],
   "source": [
    "loglos"
   ]
  },
  {
   "cell_type": "code",
   "execution_count": 22,
   "metadata": {},
   "outputs": [],
   "source": [
    "ltest=0\n",
    "for i in range(len(xte)):\n",
    "    r= sigmoid(w_new,xte[i], b_new)\n",
    "    ltest+= yte[i]* np.log(r)+ (1-yte[i])*(1- np.log(1-r))"
   ]
  },
  {
   "cell_type": "code",
   "execution_count": 23,
   "metadata": {},
   "outputs": [],
   "source": [
    "ltest=((-1)/ntest)*ltest"
   ]
  },
  {
   "cell_type": "code",
   "execution_count": 16,
   "metadata": {},
   "outputs": [
    {
     "data": {
      "text/plain": [
       "-0.7540678589793446"
      ]
     },
     "execution_count": 16,
     "metadata": {},
     "output_type": "execute_result"
    }
   ],
   "source": [
    "ltest"
   ]
  },
  {
   "cell_type": "code",
   "execution_count": null,
   "metadata": {},
   "outputs": [],
   "source": []
  }
 ],
 "metadata": {
  "kernelspec": {
   "display_name": "Python 3",
   "language": "python",
   "name": "python3"
  },
  "language_info": {
   "codemirror_mode": {
    "name": "ipython",
    "version": 3
   },
   "file_extension": ".py",
   "mimetype": "text/x-python",
   "name": "python",
   "nbconvert_exporter": "python",
   "pygments_lexer": "ipython3",
   "version": "3.7.6"
  }
 },
 "nbformat": 4,
 "nbformat_minor": 2
}
